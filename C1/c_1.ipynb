{
 "cells": [
  {
   "attachments": {},
   "cell_type": "markdown",
   "metadata": {},
   "source": [
    "\n",
    "<a target=\"_blank\" href=\"https://colab.research.google.com/github/RanjeetKumbhar01/TE_IT_DSBDA_ASSIGNMENTS_SPPU/blob/main/Group_C/c_1.ipynb\">\n",
    "  <img align=\"left\" alt=\"Google Colab\" src=\"https://colab.research.google.com/assets/colab-badge.svg\" alt=\"Open In Colab\"/>\n",
    "</a>"
   ]
  },
  {
   "attachments": {},
   "cell_type": "markdown",
   "metadata": {
    "id": "U1KsMjZiSptC"
   },
   "source": []
  },
  {
   "cell_type": "code",
   "execution_count": null,
   "metadata": {},
   "outputs": [],
   "source": [
    "import bs4\n",
    "import requests\n",
    "import pandas as pd"
   ]
  },
  {
   "cell_type": "code",
   "execution_count": null,
   "metadata": {
    "id": "SHESh5k2SwHx"
   },
   "outputs": [],
   "source": [
    "req = requests.get('https://books.toscrape.com/catalogue/page-1.html')"
   ]
  },
  {
   "cell_type": "code",
   "execution_count": null,
   "metadata": {
    "colab": {
     "base_uri": "https://localhost:8080/"
    },
    "id": "0qpXlSYoTURS",
    "outputId": "cd4704a2-06b5-4e90-e501-6caa91bf2bf3"
   },
   "outputs": [],
   "source": [
    "print(req)"
   ]
  },
  {
   "cell_type": "code",
   "execution_count": null,
   "metadata": {
    "colab": {
     "base_uri": "https://localhost:8080/"
    },
    "id": "97vS3C4zTWDZ",
    "outputId": "19b1684f-e711-41c2-c38d-8945e55dbabd"
   },
   "outputs": [],
   "source": [
    "soup = bs4.BeautifulSoup(req.text)\n",
    "soup"
   ]
  },
  {
   "cell_type": "code",
   "execution_count": null,
   "metadata": {
    "colab": {
     "base_uri": "https://localhost:8080/"
    },
    "id": "HnLuaHkWTy-_",
    "outputId": "6c419f6f-0071-40f3-cc78-c05e15559032"
   },
   "outputs": [],
   "source": [
    "soup.select('article')"
   ]
  },
  {
   "cell_type": "code",
   "execution_count": null,
   "metadata": {
    "colab": {
     "base_uri": "https://localhost:8080/"
    },
    "id": "secpOlyyUF1f",
    "outputId": "6af46294-f068-440d-88e8-30c59c35b526"
   },
   "outputs": [],
   "source": [
    "soup.select('article h3 a')"
   ]
  },
  {
   "cell_type": "code",
   "execution_count": null,
   "metadata": {
    "colab": {
     "base_uri": "https://localhost:8080/"
    },
    "id": "b7b-62jHUfGk",
    "outputId": "d7dad65e-63a1-4803-a0eb-345caefdb9a2"
   },
   "outputs": [],
   "source": [
    "len(soup.select('article h3 a'))"
   ]
  },
  {
   "cell_type": "code",
   "execution_count": null,
   "metadata": {
    "colab": {
     "base_uri": "https://localhost:8080/"
    },
    "id": "tA4moAg_hni7",
    "outputId": "9c62abc6-e29c-4677-e47e-9d4cd155e2ff"
   },
   "outputs": [],
   "source": [
    "soup.select('article h3 a')"
   ]
  },
  {
   "cell_type": "code",
   "execution_count": null,
   "metadata": {
    "colab": {
     "base_uri": "https://localhost:8080/"
    },
    "id": "abkiWaAZUlOc",
    "outputId": "4204ca22-7b01-456e-a950-2ccfcced0221"
   },
   "outputs": [],
   "source": [
    "soup.select('article h3 a')[0]"
   ]
  },
  {
   "cell_type": "code",
   "execution_count": null,
   "metadata": {
    "colab": {
     "base_uri": "https://localhost:8080/",
     "height": 36
    },
    "id": "pfUTP4jSUqgG",
    "outputId": "868c7ae9-33b4-4be3-c1db-e67e5dd4d7be"
   },
   "outputs": [],
   "source": [
    "soup.select('article h3 a')[0]['title']"
   ]
  },
  {
   "cell_type": "code",
   "execution_count": null,
   "metadata": {
    "colab": {
     "base_uri": "https://localhost:8080/"
    },
    "id": "Vw0Jc6GaUyuV",
    "outputId": "f5fd8e23-5700-4e65-8e3f-484b1c9ba908"
   },
   "outputs": [],
   "source": [
    "soup.select('article p')"
   ]
  },
  {
   "cell_type": "code",
   "execution_count": null,
   "metadata": {
    "colab": {
     "base_uri": "https://localhost:8080/"
    },
    "id": "JAJQoYivU-fL",
    "outputId": "bb07d954-db52-4802-a634-e07b16010516"
   },
   "outputs": [],
   "source": [
    "soup.select('article p')[0]"
   ]
  },
  {
   "cell_type": "code",
   "execution_count": null,
   "metadata": {
    "colab": {
     "base_uri": "https://localhost:8080/"
    },
    "id": "dosblHsfXkHz",
    "outputId": "cf11ff78-7409-4ed5-8160-b1128203030e"
   },
   "outputs": [],
   "source": [
    "soup.select('article p')[0]['class']"
   ]
  },
  {
   "cell_type": "code",
   "execution_count": null,
   "metadata": {
    "colab": {
     "base_uri": "https://localhost:8080/"
    },
    "id": "o8oj0Jv5Vaj2",
    "outputId": "806d534a-60b3-466f-859e-f7f2121721d3"
   },
   "outputs": [],
   "source": [
    "soup.select('article p')[1]"
   ]
  },
  {
   "cell_type": "code",
   "execution_count": null,
   "metadata": {
    "colab": {
     "base_uri": "https://localhost:8080/"
    },
    "id": "JN1aAUNsVgM0",
    "outputId": "6dc33939-e544-471d-db3c-05acc78f7de8"
   },
   "outputs": [],
   "source": [
    "soup.select('article p')[1]"
   ]
  },
  {
   "cell_type": "code",
   "execution_count": null,
   "metadata": {
    "colab": {
     "base_uri": "https://localhost:8080/",
     "height": 36
    },
    "id": "Vip9GTWyVm8L",
    "outputId": "df812f3b-dc99-4c48-a5cb-bd8e7f2925ae"
   },
   "outputs": [],
   "source": [
    "soup.select('article p')[1].string"
   ]
  },
  {
   "cell_type": "code",
   "execution_count": null,
   "metadata": {
    "colab": {
     "base_uri": "https://localhost:8080/",
     "height": 36
    },
    "id": "DOC_b9hsVt8H",
    "outputId": "c513fb79-4a86-43e9-b94f-b622a7b96b65"
   },
   "outputs": [],
   "source": [
    "soup.select('article p')[1].string.replace('Â£','')"
   ]
  },
  {
   "cell_type": "code",
   "execution_count": null,
   "metadata": {
    "id": "z9fuXd-5V6x0"
   },
   "outputs": [],
   "source": [
    "title_list =[]\n",
    "rating_list = []\n",
    "price_list = []\n",
    "\n",
    "for pg_num in range(1,51):\n",
    "  req = requests.get(f'https://books.toscrape.com/catalogue/page-{pg_num}.html')\n",
    "  soup_pg = bs4.BeautifulSoup(req.text)\n",
    "  \n",
    "  for item in soup_pg.select('article h3 a'):\n",
    "    title_list.append(item['title'])\n",
    "  \n",
    "  for n in range(0,60,3):\n",
    "     rating_list.append(soup_pg.select('article p')[n]['class'][1])\n",
    "  \n",
    "  for n in range(1,60,3):\n",
    "     price_list.append(soup_pg.select('article p')[n].string.replace('Â£',''))\n"
   ]
  },
  {
   "cell_type": "code",
   "execution_count": null,
   "metadata": {
    "id": "txPkHnTOVy8n"
   },
   "outputs": [],
   "source": [
    "# price_list"
   ]
  },
  {
   "cell_type": "code",
   "execution_count": null,
   "metadata": {
    "colab": {
     "base_uri": "https://localhost:8080/",
     "height": 423
    },
    "id": "MhsrUNw0WrY9",
    "outputId": "2cf29796-8d54-43a7-f6b7-d99767e9be21"
   },
   "outputs": [],
   "source": [
    "dic = dict(zip(title_list,zip(rating_list, price_list)))\n",
    "df = pd.DataFrame.from_dict(dic, orient='index')\n",
    "df"
   ]
  },
  {
   "cell_type": "code",
   "execution_count": null,
   "metadata": {
    "colab": {
     "base_uri": "https://localhost:8080/"
    },
    "id": "hkcoKHCrZB8X",
    "outputId": "613a3a21-06c1-4b4e-cd8b-60b2ecf9e60b"
   },
   "outputs": [],
   "source": [
    "# we already know the url\n",
    "soup.select('article h3 a')"
   ]
  },
  {
   "cell_type": "code",
   "execution_count": null,
   "metadata": {
    "id": "aM_N_c1YaxIu"
   },
   "outputs": [],
   "source": [
    "nreq= requests.get('https://books.toscrape.com/catalogue/in-her-wake_980/index.html')\n"
   ]
  },
  {
   "cell_type": "code",
   "execution_count": null,
   "metadata": {
    "colab": {
     "base_uri": "https://localhost:8080/"
    },
    "id": "1w2qxq-udUr2",
    "outputId": "40c35992-d57b-456a-dc76-1efae08e9748"
   },
   "outputs": [],
   "source": [
    "nsoup = bs4.BeautifulSoup(nreq.text)\n",
    "nsoup"
   ]
  },
  {
   "cell_type": "code",
   "execution_count": null,
   "metadata": {
    "colab": {
     "base_uri": "https://localhost:8080/"
    },
    "id": "xkj3_4nydbii",
    "outputId": "ce6be4e8-1cce-46f6-f9b3-10552c095e4b"
   },
   "outputs": [],
   "source": [
    "nsoup.select('tr')"
   ]
  },
  {
   "cell_type": "code",
   "execution_count": null,
   "metadata": {
    "colab": {
     "base_uri": "https://localhost:8080/"
    },
    "id": "QV7qxhZndqo2",
    "outputId": "9fe3f01a-7590-4289-e4d1-625ed570bdc9"
   },
   "outputs": [],
   "source": [
    "nsoup.select('tr th')"
   ]
  },
  {
   "cell_type": "code",
   "execution_count": null,
   "metadata": {
    "colab": {
     "base_uri": "https://localhost:8080/"
    },
    "id": "GaQd51Xkduyi",
    "outputId": "46aa132b-d38a-4429-d2a3-b71a9354df04"
   },
   "outputs": [],
   "source": [
    "nsoup.select('tr td')"
   ]
  },
  {
   "cell_type": "code",
   "execution_count": null,
   "metadata": {
    "colab": {
     "base_uri": "https://localhost:8080/",
     "height": 36
    },
    "id": "kMRgEibsdzFM",
    "outputId": "4bb0af06-f51b-4c4c-ef04-c12b172edd4b"
   },
   "outputs": [],
   "source": [
    "nsoup.select('tr td')[2].text"
   ]
  },
  {
   "cell_type": "code",
   "execution_count": null,
   "metadata": {
    "colab": {
     "base_uri": "https://localhost:8080/"
    },
    "id": "nFrhwE22ef1f",
    "outputId": "bcfc7da8-b28e-4f5d-ea78-883fed3195f6"
   },
   "outputs": [],
   "source": [
    "\n",
    "\n",
    "new_df = pd.DataFrame()  # empty dataframe\n",
    "index_num= 0             # index of dataframe\n",
    "\n",
    "for pg_num in range(1,51):\n",
    "  req = requests.get(f'https://books.toscrape.com/catalogue/page-{pg_num}.html')\n",
    "  soup_pg = bs4.BeautifulSoup(req.text)\n",
    "  book_info_list = soup_pg.select('article h3 a')   # all books on that page    # values of that features\n",
    "\n",
    "  for n in range(0,20):\n",
    "      res = requests.get('http://books.toscrape.com/catalogue/'+ book_info_list[n]['href']) # url of each book in above page\n",
    "      soup = bs4.BeautifulSoup(res.text, 'lxml')\n",
    "      \n",
    "      book_features_column_list = soup.select('tr th')   # book features like price, rating of each book\n",
    "      book_column_values = soup.select('tr td')          # values of that features\n",
    "      \n",
    "      column_names = [ item.text for item in book_features_column_list ]\n",
    "      \n",
    "      column_values = [item.text for item in book_column_values ]\n",
    "      \n",
    "      d = dict(zip(column_names, column_values))  # making dictionary with features as columns and values as rows\n",
    "  \n",
    "      df = pd.DataFrame(d, index = [index_num + n]) \n",
    "      # new_df = new_df.append(df)   # append df of every page\n",
    "      new_df = pd.concat([new_df, df])\n",
    "\n",
    "  index_num += 20  # index for each page to be incremented by 20 as zero_base index since there are 20 books on each page \n",
    "  \n"
   ]
  },
  {
   "cell_type": "code",
   "execution_count": null,
   "metadata": {
    "colab": {
     "base_uri": "https://localhost:8080/",
     "height": 423
    },
    "id": "5nlZxKVLg9W0",
    "outputId": "4030cce6-f59d-4166-f4a7-de8793bb0ecf"
   },
   "outputs": [],
   "source": [
    "new_df"
   ]
  },
  {
   "cell_type": "code",
   "execution_count": null,
   "metadata": {
    "colab": {
     "base_uri": "https://localhost:8080/",
     "height": 423
    },
    "id": "01fCqokMg0mJ",
    "outputId": "ce0aba66-254d-4af6-cd1c-b7bfd0d82940"
   },
   "outputs": [],
   "source": [
    "# adding new columns in a dataframe \n",
    "new_df[\"Rating\"] = rating_list\n",
    "new_df[\"Title\"] = title_list\n",
    "new_df"
   ]
  }
 ],
 "metadata": {
  "colab": {
   "provenance": []
  },
  "kernelspec": {
   "display_name": "Python 3 (ipykernel)",
   "language": "python",
   "name": "python3"
  },
  "language_info": {
   "codemirror_mode": {
    "name": "ipython",
    "version": 3
   },
   "file_extension": ".py",
   "mimetype": "text/x-python",
   "name": "python",
   "nbconvert_exporter": "python",
   "pygments_lexer": "ipython3",
   "version": "3.12.4"
  }
 },
 "nbformat": 4,
 "nbformat_minor": 4
}
