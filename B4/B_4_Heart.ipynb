{
 "cells": [
  {
   "cell_type": "code",
   "execution_count": null,
   "id": "712c826c",
   "metadata": {},
   "outputs": [],
   "source": [
    "import pandas as pd"
   ]
  },
  {
   "cell_type": "code",
   "execution_count": null,
   "id": "fa5b9a6a",
   "metadata": {},
   "outputs": [],
   "source": [
    "df = pd.read_csv('heart.csv')"
   ]
  },
  {
   "cell_type": "markdown",
   "id": "ab83a82a",
   "metadata": {},
   "source": [
    "## Note: Here in Dataset \"trtbps\" assume it as RestBP"
   ]
  },
  {
   "cell_type": "code",
   "execution_count": null,
   "id": "19f281a1",
   "metadata": {},
   "outputs": [],
   "source": [
    "df\n",
    "# 303 rows × 14 columns"
   ]
  },
  {
   "cell_type": "code",
   "execution_count": null,
   "id": "a6614525",
   "metadata": {},
   "outputs": [],
   "source": [
    "df = df.drop_duplicates()"
   ]
  },
  {
   "cell_type": "code",
   "execution_count": null,
   "id": "2f3e7947",
   "metadata": {},
   "outputs": [],
   "source": [
    "df"
   ]
  },
  {
   "cell_type": "markdown",
   "id": "8d5d779f",
   "metadata": {},
   "source": [
    "## Duplicates removed"
   ]
  },
  {
   "cell_type": "code",
   "execution_count": null,
   "id": "8112e0c6",
   "metadata": {},
   "outputs": [],
   "source": [
    "df.isna().sum()\n",
    "# No null values, it's clean"
   ]
  },
  {
   "cell_type": "markdown",
   "id": "5c6518eb",
   "metadata": {},
   "source": [
    "# Plots"
   ]
  },
  {
   "cell_type": "code",
   "execution_count": null,
   "id": "9958879c",
   "metadata": {},
   "outputs": [],
   "source": [
    "import seaborn as sns\n",
    "import matplotlib.pyplot as plt"
   ]
  },
  {
   "cell_type": "code",
   "execution_count": null,
   "id": "8c3a45e6",
   "metadata": {},
   "outputs": [],
   "source": [
    "df.columns"
   ]
  },
  {
   "cell_type": "code",
   "execution_count": null,
   "id": "612eb265",
   "metadata": {},
   "outputs": [],
   "source": [
    "plt.figure(figsize=(10,6))\n",
    "sns.heatmap(df.corr(),cmap = 'YlGnBu', annot = True)"
   ]
  },
  {
   "cell_type": "markdown",
   "id": "1d55d1fb",
   "metadata": {},
   "source": [
    "### Line chart"
   ]
  },
  {
   "cell_type": "code",
   "execution_count": null,
   "id": "fd34c6e5",
   "metadata": {},
   "outputs": [],
   "source": [
    "sns.lineplot(data=df,x=df.age,y=df.cp,hue='output')"
   ]
  },
  {
   "cell_type": "code",
   "execution_count": null,
   "id": "832d0346",
   "metadata": {},
   "outputs": [],
   "source": [
    "sns.lineplot(data=df,x=df.age,y=df.trtbps,hue='output')"
   ]
  },
  {
   "cell_type": "code",
   "execution_count": null,
   "id": "14408eab",
   "metadata": {},
   "outputs": [],
   "source": [
    "sns.lineplot(data=df,x=df.age,y=df.chol,hue='output')"
   ]
  },
  {
   "cell_type": "code",
   "execution_count": null,
   "id": "20ccca55",
   "metadata": {},
   "outputs": [],
   "source": [
    "sns.lineplot(df,x=df.oldpeak,y=df.exng,hue='output')"
   ]
  },
  {
   "cell_type": "code",
   "execution_count": null,
   "id": "a33a7acd",
   "metadata": {},
   "outputs": [],
   "source": [
    "# Shows the Distribution of Heat Diseases with respect to male and female\n",
    "sns.histplot(data=df, \n",
    "             x=df.output,\n",
    "             hue=df.sex)"
   ]
  },
  {
   "cell_type": "code",
   "execution_count": null,
   "id": "1fb62bf0",
   "metadata": {},
   "outputs": [],
   "source": [
    "# Shows the Distribution of cp types with respect to male and female\n",
    "sns.histplot(data=df, \n",
    "             x=df.cp,\n",
    "             hue=df.sex)"
   ]
  },
  {
   "cell_type": "code",
   "execution_count": null,
   "id": "703c08e4",
   "metadata": {},
   "outputs": [],
   "source": [
    "sns.histplot(data=df,x=df.cp, hue='output')"
   ]
  },
  {
   "cell_type": "code",
   "execution_count": null,
   "id": "2c55744c",
   "metadata": {},
   "outputs": [],
   "source": [
    "# Shows the Distribution of age w.r.t output\n",
    "sns.histplot(data=df,x=df['age'], hue='output')"
   ]
  },
  {
   "cell_type": "code",
   "execution_count": null,
   "id": "2302b13b",
   "metadata": {},
   "outputs": [],
   "source": [
    "sns.histplot(data=df,x=df.trtbps, hue='output')"
   ]
  },
  {
   "cell_type": "code",
   "execution_count": null,
   "id": "857a58e2",
   "metadata": {},
   "outputs": [],
   "source": [
    "temp_df = df[['age','cp', 'trtbps','chol','fbs','oldpeak','output']]\n",
    "plt.figure(figsize=(15,10))\n",
    "sns.pairplot(temp_df,hue=\"output\")\n",
    "plt.title(\"Looking for Insites in Data\")\n",
    "plt.legend(\"HeartDisease\")\n",
    "plt.tight_layout()\n",
    "plt.plot()"
   ]
  },
  {
   "cell_type": "code",
   "execution_count": null,
   "id": "8f95b520",
   "metadata": {},
   "outputs": [],
   "source": [
    "plt.figure(figsize=(15,10))\n",
    "for i,col in enumerate(temp_df.columns,1):\n",
    "    plt.subplot(4,3,i)\n",
    "    plt.title(f\"Distribution of {col} Data\")\n",
    "    sns.histplot(df[col],kde=True)\n",
    "    plt.tight_layout()\n",
    "    plt.plot()"
   ]
  },
  {
   "cell_type": "code",
   "execution_count": null,
   "id": "b0a2c41f",
   "metadata": {},
   "outputs": [],
   "source": []
  }
 ],
 "metadata": {
  "kernelspec": {
   "display_name": "Python 3 (ipykernel)",
   "language": "python",
   "name": "python3"
  },
  "language_info": {
   "codemirror_mode": {
    "name": "ipython",
    "version": 3
   },
   "file_extension": ".py",
   "mimetype": "text/x-python",
   "name": "python",
   "nbconvert_exporter": "python",
   "pygments_lexer": "ipython3",
   "version": "3.12.4"
  }
 },
 "nbformat": 4,
 "nbformat_minor": 5
}
