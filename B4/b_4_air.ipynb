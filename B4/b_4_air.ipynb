{
 "cells": [
  {
   "cell_type": "code",
   "execution_count": null,
   "id": "c3f5a7b9",
   "metadata": {},
   "outputs": [],
   "source": [
    "import pandas as pd\n",
    "import numpy as np"
   ]
  },
  {
   "cell_type": "code",
   "execution_count": null,
   "id": "7918f8d7",
   "metadata": {},
   "outputs": [],
   "source": [
    "df = pd.read_csv('AirQuality_visualization.csv',delimiter=';')"
   ]
  },
  {
   "cell_type": "code",
   "execution_count": null,
   "id": "60a77e11",
   "metadata": {},
   "outputs": [],
   "source": [
    "df"
   ]
  },
  {
   "cell_type": "code",
   "execution_count": null,
   "id": "50930d47",
   "metadata": {},
   "outputs": [],
   "source": [
    "df = df.rename(columns={'T': 'Temperature'})\n",
    "df = df.rename(columns={'RH': 'Relative Humidity'})\n",
    "df = df.rename(columns={'AH': 'Absolute Humidity'})\n",
    "df"
   ]
  },
  {
   "cell_type": "code",
   "execution_count": null,
   "id": "20516492",
   "metadata": {},
   "outputs": [],
   "source": [
    "df = df.drop(['Unnamed: 15', 'Unnamed: 16'],axis=1)"
   ]
  },
  {
   "cell_type": "code",
   "execution_count": null,
   "id": "720e2080",
   "metadata": {},
   "outputs": [],
   "source": [
    "df"
   ]
  },
  {
   "cell_type": "code",
   "execution_count": null,
   "id": "2aca66b8",
   "metadata": {},
   "outputs": [],
   "source": [
    "df['CO(GT)'] = df['CO(GT)'].str.replace(',', '.').astype(float)\n",
    "df['C6H6(GT)'] = df['C6H6(GT)'].str.replace(',', '.').astype(float)\n",
    "df['Temperature'] = df['Temperature'].str.replace(',', '.').astype(float)\n",
    "df['Relative Humidity'] = df['Relative Humidity'].str.replace(',', '.').astype(float)\n",
    "df['Absolute Humidity'] = df['Absolute Humidity'].str.replace(',', '.').astype(float)\n",
    "df"
   ]
  },
  {
   "cell_type": "code",
   "execution_count": null,
   "id": "b0946333",
   "metadata": {},
   "outputs": [],
   "source": [
    "df.info()"
   ]
  },
  {
   "cell_type": "code",
   "execution_count": null,
   "id": "8340f3ab",
   "metadata": {},
   "outputs": [],
   "source": [
    "df.head()"
   ]
  },
  {
   "cell_type": "code",
   "execution_count": null,
   "id": "07268486",
   "metadata": {},
   "outputs": [],
   "source": [
    "df=df.drop_duplicates()"
   ]
  },
  {
   "cell_type": "code",
   "execution_count": null,
   "id": "3c99e40e",
   "metadata": {},
   "outputs": [],
   "source": [
    "df.isna().sum()"
   ]
  },
  {
   "cell_type": "code",
   "execution_count": null,
   "id": "688f193c",
   "metadata": {},
   "outputs": [],
   "source": [
    "df_numeric = df.select_dtypes(include=['number'])\n",
    "df.loc[:, df_numeric.columns] = df_numeric.fillna(df_numeric.mean())\n",
    "df = df.dropna()"
   ]
  },
  {
   "cell_type": "code",
   "execution_count": null,
   "id": "abf3aade",
   "metadata": {},
   "outputs": [],
   "source": [
    "df.isna().sum()"
   ]
  },
  {
   "cell_type": "code",
   "execution_count": null,
   "id": "571f8fac",
   "metadata": {},
   "outputs": [],
   "source": [
    "df"
   ]
  },
  {
   "cell_type": "code",
   "execution_count": null,
   "id": "d1ed195f",
   "metadata": {},
   "outputs": [],
   "source": [
    "df['Absolute Humidity'] = df['Absolute Humidity'].multiply(100)\n",
    "df"
   ]
  },
  {
   "cell_type": "code",
   "execution_count": null,
   "id": "a8d502d8",
   "metadata": {},
   "outputs": [],
   "source": [
    "import seaborn as sns\n",
    "import matplotlib.pyplot as plt"
   ]
  },
  {
   "cell_type": "code",
   "execution_count": null,
   "id": "dc1ac8c9",
   "metadata": {},
   "outputs": [],
   "source": [
    "def remove_outliers(column):\n",
    "    Q1 = column.quantile(0.25)\n",
    "    Q3 = column.quantile(0.75)\n",
    "    IQR = Q3 - Q1\n",
    "    threshold = 1.5 * IQR\n",
    "    outlier_mask = (column < Q1 - threshold) | (column > Q3 + threshold)\n",
    "    return column[~outlier_mask]"
   ]
  },
  {
   "cell_type": "code",
   "execution_count": null,
   "id": "ab6c4228",
   "metadata": {},
   "outputs": [],
   "source": [
    "df.columns"
   ]
  },
  {
   "cell_type": "code",
   "execution_count": null,
   "id": "e7651b54",
   "metadata": {},
   "outputs": [],
   "source": [
    "# Remove outliers for each column using a loop\n",
    "col_name = ['Temperature','Relative Humidity','Absolute Humidity','PT08.S4(NO2)','PT08.S5(O3)','C6H6(GT)',\n",
    "       'PT08.S2(NMHC)','PT08.S1(CO)']\n",
    "for col in col_name:\n",
    "    df[col] = remove_outliers(df[col])"
   ]
  },
  {
   "cell_type": "code",
   "execution_count": null,
   "id": "b6979a31",
   "metadata": {},
   "outputs": [],
   "source": [
    "df['Year'] = pd.to_datetime(df['Date'], dayfirst=True).dt.year\n",
    "df['Month'] = pd.to_datetime(df['Date'], dayfirst=True).dt.month\n",
    "df"
   ]
  },
  {
   "cell_type": "code",
   "execution_count": null,
   "id": "60344dec",
   "metadata": {},
   "outputs": [],
   "source": [
    "df['yearr']= df.Year.astype(str)\n",
    "df['month']= df.Month.astype(str)"
   ]
  },
  {
   "cell_type": "code",
   "execution_count": null,
   "id": "de9ada6f",
   "metadata": {},
   "outputs": [],
   "source": [
    "# Select only numeric columns\n",
    "numeric_df = df.select_dtypes(include=['number'])\n",
    "\n",
    "# Plot correlation heatmap\n",
    "plt.figure(figsize=(8, 6))\n",
    "sns.heatmap(numeric_df.corr(), annot=True, cmap='coolwarm')\n",
    "plt.title('Correlation Heatmap')\n",
    "plt.show()"
   ]
  },
  {
   "cell_type": "code",
   "execution_count": null,
   "id": "95d3fe94",
   "metadata": {},
   "outputs": [],
   "source": [
    "df.columns"
   ]
  },
  {
   "cell_type": "markdown",
   "id": "cf9376e8",
   "metadata": {},
   "source": [
    "## LinePlot"
   ]
  },
  {
   "cell_type": "code",
   "execution_count": null,
   "id": "94143776",
   "metadata": {},
   "outputs": [],
   "source": [
    "sns.lineplot(df,x=\"Year\",y='Absolute Humidity')"
   ]
  },
  {
   "cell_type": "code",
   "execution_count": null,
   "id": "9746f232",
   "metadata": {},
   "outputs": [],
   "source": [
    "sns.lineplot(df,x=\"month\",y='Absolute Humidity')"
   ]
  },
  {
   "cell_type": "code",
   "execution_count": null,
   "id": "35dac315",
   "metadata": {},
   "outputs": [],
   "source": [
    "sns.lineplot(df,x=\"Year\",y='Temperature')"
   ]
  },
  {
   "cell_type": "code",
   "execution_count": null,
   "id": "5b1bb176",
   "metadata": {},
   "outputs": [],
   "source": [
    "sns.lineplot(df,x=\"month\",y='Temperature',)"
   ]
  },
  {
   "cell_type": "code",
   "execution_count": null,
   "id": "24fa7008",
   "metadata": {},
   "outputs": [],
   "source": [
    "sns.lineplot(df,x=\"month\",y='CO(GT)',)"
   ]
  },
  {
   "cell_type": "code",
   "execution_count": null,
   "id": "eb582e1d",
   "metadata": {},
   "outputs": [],
   "source": [
    "sns.lineplot(df,x=\"Year\",y='NO2(GT)')\n"
   ]
  },
  {
   "cell_type": "code",
   "execution_count": null,
   "id": "4bc67944",
   "metadata": {},
   "outputs": [],
   "source": [
    "sns.lineplot(df,x=\"month\",y='NO2(GT)')"
   ]
  },
  {
   "cell_type": "code",
   "execution_count": null,
   "id": "74169b41",
   "metadata": {},
   "outputs": [],
   "source": [
    "sns.lineplot(df,x='PT08.S1(CO)',y='PT08.S5(O3)',hue='Year')"
   ]
  },
  {
   "cell_type": "code",
   "execution_count": null,
   "id": "d0751d76",
   "metadata": {},
   "outputs": [],
   "source": [
    "# sns.lineplot(df,x='PT08.S1(CO)',y='PT08.S5(O3)',hue='month')"
   ]
  },
  {
   "cell_type": "markdown",
   "id": "8af92e03",
   "metadata": {},
   "source": [
    "## Barplot"
   ]
  },
  {
   "cell_type": "code",
   "execution_count": null,
   "id": "149bc332",
   "metadata": {},
   "outputs": [],
   "source": [
    "sns.barplot(df,x=df.Year,y=df.Temperature)"
   ]
  },
  {
   "cell_type": "code",
   "execution_count": null,
   "id": "0d698875",
   "metadata": {},
   "outputs": [],
   "source": [
    "sns.barplot(df,x=df.month,y=df['CO(GT)'])"
   ]
  },
  {
   "cell_type": "code",
   "execution_count": null,
   "id": "7f07c7f0",
   "metadata": {},
   "outputs": [],
   "source": [
    "sns.barplot(df,x=df.Year,y='Absolute Humidity')"
   ]
  },
  {
   "cell_type": "code",
   "execution_count": null,
   "id": "a7a9123d",
   "metadata": {},
   "outputs": [],
   "source": [
    "sns.barplot(df,x=df.month,y='PT08.S1(CO)')"
   ]
  },
  {
   "cell_type": "markdown",
   "id": "428ef20a",
   "metadata": {},
   "source": [
    "## Scatter Plot"
   ]
  },
  {
   "cell_type": "code",
   "execution_count": null,
   "id": "4e643b34",
   "metadata": {},
   "outputs": [],
   "source": [
    "sns.scatterplot(df,x='PT08.S1(CO)',y='PT08.S5(O3)', hue='yearr')"
   ]
  },
  {
   "cell_type": "code",
   "execution_count": null,
   "id": "c2d7c252",
   "metadata": {},
   "outputs": [],
   "source": [
    "df.columns"
   ]
  },
  {
   "cell_type": "code",
   "execution_count": null,
   "id": "d7f41ab8",
   "metadata": {},
   "outputs": [],
   "source": [
    "sns.scatterplot(df,x='NO2(GT)',y='NOx(GT)', hue='month')"
   ]
  },
  {
   "cell_type": "code",
   "execution_count": null,
   "id": "71eaaad0",
   "metadata": {},
   "outputs": [],
   "source": [
    "sns.scatterplot(df,y='PT08.S2(NMHC)',x='PT08.S1(CO)', hue='yearr')"
   ]
  },
  {
   "cell_type": "code",
   "execution_count": null,
   "id": "82d2ca3b",
   "metadata": {},
   "outputs": [],
   "source": [
    "sns.scatterplot(df,y='PT08.S2(NMHC)',x='PT08.S1(CO)', hue='month')"
   ]
  },
  {
   "cell_type": "code",
   "execution_count": null,
   "id": "d50b9682",
   "metadata": {},
   "outputs": [],
   "source": []
  }
 ],
 "metadata": {
  "kernelspec": {
   "display_name": "Python 3 (ipykernel)",
   "language": "python",
   "name": "python3"
  },
  "language_info": {
   "codemirror_mode": {
    "name": "ipython",
    "version": 3
   },
   "file_extension": ".py",
   "mimetype": "text/x-python",
   "name": "python",
   "nbconvert_exporter": "python",
   "pygments_lexer": "ipython3",
   "version": "3.12.4"
  }
 },
 "nbformat": 4,
 "nbformat_minor": 5
}
